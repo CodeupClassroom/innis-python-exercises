{
 "cells": [
  {
   "cell_type": "markdown",
   "id": "0db180b1",
   "metadata": {},
   "source": [
    "If Statements:"
   ]
  },
  {
   "cell_type": "code",
   "execution_count": 1,
   "id": "8d698e6d",
   "metadata": {},
   "outputs": [],
   "source": [
    "bool1 = True"
   ]
  },
  {
   "cell_type": "code",
   "execution_count": 2,
   "id": "00c2fe9d",
   "metadata": {},
   "outputs": [
    {
     "data": {
      "text/plain": [
       "True"
      ]
     },
     "execution_count": 2,
     "metadata": {},
     "output_type": "execute_result"
    }
   ],
   "source": [
    "bool1"
   ]
  },
  {
   "cell_type": "code",
   "execution_count": 5,
   "id": "98eccd5c",
   "metadata": {},
   "outputs": [
    {
     "name": "stdout",
     "output_type": "stream",
     "text": [
      "hi world\n"
     ]
    }
   ],
   "source": [
    "if bool1:\n",
    "    print('hi world')"
   ]
  },
  {
   "cell_type": "code",
   "execution_count": 6,
   "id": "1d0d785a",
   "metadata": {},
   "outputs": [],
   "source": [
    "# adding in an else"
   ]
  },
  {
   "cell_type": "code",
   "execution_count": 7,
   "id": "59699a2f",
   "metadata": {},
   "outputs": [
    {
     "name": "stdout",
     "output_type": "stream",
     "text": [
      "hi world\n"
     ]
    }
   ],
   "source": [
    "if bool1:\n",
    "    print('hi world')\n",
    "else:\n",
    "    print('nothing to see here')"
   ]
  },
  {
   "cell_type": "code",
   "execution_count": 9,
   "id": "7b3ce222",
   "metadata": {},
   "outputs": [],
   "source": [
    "bool1 = False"
   ]
  },
  {
   "cell_type": "code",
   "execution_count": 10,
   "id": "1b779865",
   "metadata": {},
   "outputs": [
    {
     "name": "stdout",
     "output_type": "stream",
     "text": [
      "nothing to see here\n"
     ]
    }
   ],
   "source": [
    "if bool1:\n",
    "    print('hi world')\n",
    "else:\n",
    "    print('nothing to see here')"
   ]
  },
  {
   "cell_type": "code",
   "execution_count": 11,
   "id": "8987fa5d",
   "metadata": {},
   "outputs": [],
   "source": [
    "# beverage choices"
   ]
  },
  {
   "cell_type": "code",
   "execution_count": 14,
   "id": "0065ae29",
   "metadata": {},
   "outputs": [],
   "source": [
    "beverage_of_choice = 'gatorade'"
   ]
  },
  {
   "cell_type": "code",
   "execution_count": 17,
   "id": "ccca5f83",
   "metadata": {},
   "outputs": [
    {
     "name": "stdout",
     "output_type": "stream",
     "text": [
      "i dont know that one\n"
     ]
    }
   ],
   "source": [
    "if beverage_of_choice == 'tea':\n",
    "    print('low caffeine intake?')\n",
    "elif beverage_of_choice == 'monster':\n",
    "    print('slow down')\n",
    "elif beverage_of_choice == 'coffee':\n",
    "    print('good pick')\n",
    "elif beverage_of_choice in ['water', 'lacroix', 'topo chico']:\n",
    "    print('hydrator')\n",
    "else:\n",
    "    print('i dont know that one')"
   ]
  },
  {
   "cell_type": "markdown",
   "id": "5e6a274d",
   "metadata": {},
   "source": [
    "### Loops"
   ]
  },
  {
   "cell_type": "markdown",
   "id": "33f27688",
   "metadata": {},
   "source": [
    "#### for loops:"
   ]
  },
  {
   "cell_type": "code",
   "execution_count": 18,
   "id": "73d294c2",
   "metadata": {},
   "outputs": [],
   "source": [
    "# an iterable: some list, range, etc"
   ]
  },
  {
   "cell_type": "code",
   "execution_count": 19,
   "id": "89f45dab",
   "metadata": {},
   "outputs": [],
   "source": [
    "# based on a range:"
   ]
  },
  {
   "cell_type": "code",
   "execution_count": 22,
   "id": "35c9127b",
   "metadata": {},
   "outputs": [
    {
     "name": "stdout",
     "output_type": "stream",
     "text": [
      "0\n",
      "---\n",
      "1\n",
      "---\n",
      "2\n",
      "---\n",
      "3\n",
      "---\n",
      "4\n",
      "---\n",
      "5\n",
      "---\n",
      "6\n",
      "---\n",
      "7\n",
      "---\n",
      "8\n",
      "---\n",
      "9\n",
      "---\n"
     ]
    }
   ],
   "source": [
    "for n in range(10):\n",
    "    print(n)\n",
    "    print('---')"
   ]
  },
  {
   "cell_type": "code",
   "execution_count": 23,
   "id": "157ecc00",
   "metadata": {},
   "outputs": [
    {
     "name": "stdout",
     "output_type": "stream",
     "text": [
      "banana is my favorite fruit!\n",
      "apple is my favorite fruit!\n",
      "pear is my favorite fruit!\n"
     ]
    }
   ],
   "source": [
    "for fruit in ['banana', 'apple', 'pear']:\n",
    "    print(f'{fruit} is my favorite fruit!')"
   ]
  },
  {
   "cell_type": "code",
   "execution_count": 24,
   "id": "7b540c70",
   "metadata": {},
   "outputs": [
    {
     "name": "stdout",
     "output_type": "stream",
     "text": [
      "banana is my favorite fruit!\n",
      "not a fan of apples\n",
      "pear is my favorite fruit!\n"
     ]
    }
   ],
   "source": [
    "for fruit in ['banana', 'apple', 'pear']:\n",
    "    if fruit == 'apple':\n",
    "        print('not a fan of apples')\n",
    "    else:\n",
    "        print(f'{fruit} is my favorite fruit!')"
   ]
  },
  {
   "cell_type": "code",
   "execution_count": 26,
   "id": "e1bfcdba",
   "metadata": {},
   "outputs": [
    {
     "name": "stdout",
     "output_type": "stream",
     "text": [
      "banana\n",
      "pear\n",
      "----\n",
      "tomato\n",
      "plum\n",
      "----\n"
     ]
    }
   ],
   "source": [
    "for cats in [['banana', 'pear'], ['tomato', 'plum']]:\n",
    "    for thing in cats:\n",
    "        print(thing)\n",
    "    print('----')"
   ]
  },
  {
   "cell_type": "markdown",
   "id": "8afe146a",
   "metadata": {},
   "source": [
    "#### while loops:"
   ]
  },
  {
   "cell_type": "code",
   "execution_count": 27,
   "id": "d9124cd3",
   "metadata": {},
   "outputs": [],
   "source": [
    "# initialize a variable"
   ]
  },
  {
   "cell_type": "code",
   "execution_count": 28,
   "id": "48abd4b0",
   "metadata": {},
   "outputs": [],
   "source": [
    "patience = ''"
   ]
  },
  {
   "cell_type": "code",
   "execution_count": 29,
   "id": "62de4d65",
   "metadata": {},
   "outputs": [
    {
     "name": "stdout",
     "output_type": "stream",
     "text": [
      "Hey whats up hows it going\n",
      "hi\n",
      "Hey whats up hows it going\n",
      "im good how are you\n",
      "Hey whats up hows it going\n",
      "i said im good\n",
      "Hey whats up hows it going\n",
      "please stop\n"
     ]
    }
   ],
   "source": [
    "while patience != 'please stop':\n",
    "    patience = input('Hey whats up hows it going\\n')"
   ]
  },
  {
   "cell_type": "code",
   "execution_count": null,
   "id": "46a974f2",
   "metadata": {},
   "outputs": [],
   "source": []
  }
 ],
 "metadata": {
  "kernelspec": {
   "display_name": "Python 3",
   "language": "python",
   "name": "python3"
  },
  "language_info": {
   "codemirror_mode": {
    "name": "ipython",
    "version": 3
   },
   "file_extension": ".py",
   "mimetype": "text/x-python",
   "name": "python",
   "nbconvert_exporter": "python",
   "pygments_lexer": "ipython3",
   "version": "3.9.4"
  }
 },
 "nbformat": 4,
 "nbformat_minor": 5
}
