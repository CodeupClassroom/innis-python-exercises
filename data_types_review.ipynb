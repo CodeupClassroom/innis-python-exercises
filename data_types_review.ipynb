{
 "cells": [
  {
   "cell_type": "markdown",
   "id": "adb8c823",
   "metadata": {},
   "source": [
    "### Identify the data type of the following values:"
   ]
  },
  {
   "cell_type": "code",
   "execution_count": 1,
   "id": "d2586f2f",
   "metadata": {},
   "outputs": [
    {
     "data": {
      "text/plain": [
       "float"
      ]
     },
     "execution_count": 1,
     "metadata": {},
     "output_type": "execute_result"
    }
   ],
   "source": [
    "type(99.9)"
   ]
  },
  {
   "cell_type": "code",
   "execution_count": 2,
   "id": "2059c220",
   "metadata": {},
   "outputs": [
    {
     "data": {
      "text/plain": [
       "str"
      ]
     },
     "execution_count": 2,
     "metadata": {},
     "output_type": "execute_result"
    }
   ],
   "source": [
    "type(\"False\")"
   ]
  },
  {
   "cell_type": "code",
   "execution_count": 3,
   "id": "0157f7a5",
   "metadata": {},
   "outputs": [
    {
     "data": {
      "text/plain": [
       "bool"
      ]
     },
     "execution_count": 3,
     "metadata": {},
     "output_type": "execute_result"
    }
   ],
   "source": [
    "type(False)"
   ]
  },
  {
   "cell_type": "code",
   "execution_count": 4,
   "id": "92750457",
   "metadata": {},
   "outputs": [
    {
     "data": {
      "text/plain": [
       "str"
      ]
     },
     "execution_count": 4,
     "metadata": {},
     "output_type": "execute_result"
    }
   ],
   "source": [
    "type('0')"
   ]
  },
  {
   "cell_type": "code",
   "execution_count": 5,
   "id": "d210bd1f",
   "metadata": {},
   "outputs": [
    {
     "data": {
      "text/plain": [
       "int"
      ]
     },
     "execution_count": 5,
     "metadata": {},
     "output_type": "execute_result"
    }
   ],
   "source": [
    "type(0)"
   ]
  },
  {
   "cell_type": "code",
   "execution_count": 6,
   "id": "cc8e6329",
   "metadata": {},
   "outputs": [
    {
     "data": {
      "text/plain": [
       "bool"
      ]
     },
     "execution_count": 6,
     "metadata": {},
     "output_type": "execute_result"
    }
   ],
   "source": [
    "type(True)"
   ]
  },
  {
   "cell_type": "code",
   "execution_count": 7,
   "id": "ecb0c003",
   "metadata": {},
   "outputs": [
    {
     "data": {
      "text/plain": [
       "str"
      ]
     },
     "execution_count": 7,
     "metadata": {},
     "output_type": "execute_result"
    }
   ],
   "source": [
    "type('True')"
   ]
  },
  {
   "cell_type": "code",
   "execution_count": 8,
   "id": "211b09cf",
   "metadata": {},
   "outputs": [
    {
     "data": {
      "text/plain": [
       "list"
      ]
     },
     "execution_count": 8,
     "metadata": {},
     "output_type": "execute_result"
    }
   ],
   "source": [
    "type([{}])"
   ]
  },
  {
   "cell_type": "code",
   "execution_count": 9,
   "id": "43fc6594",
   "metadata": {},
   "outputs": [
    {
     "data": {
      "text/plain": [
       "dict"
      ]
     },
     "execution_count": 9,
     "metadata": {},
     "output_type": "execute_result"
    }
   ],
   "source": [
    "type({'a': []})"
   ]
  },
  {
   "cell_type": "markdown",
   "id": "8173280e",
   "metadata": {},
   "source": [
    "#### What data type would best represent:"
   ]
  },
  {
   "cell_type": "markdown",
   "id": "6af173d4",
   "metadata": {},
   "source": [
    "A term or phrase typed into a search box?"
   ]
  },
  {
   "cell_type": "markdown",
   "id": "02d943ae",
   "metadata": {},
   "source": [
    "String"
   ]
  },
  {
   "cell_type": "markdown",
   "id": "b75ba21f",
   "metadata": {},
   "source": [
    "If a user is logged in?"
   ]
  },
  {
   "cell_type": "markdown",
   "id": "81b49d28",
   "metadata": {},
   "source": [
    "Bool"
   ]
  },
  {
   "cell_type": "markdown",
   "id": "4b069902",
   "metadata": {},
   "source": [
    "A discount amount to apply to a user's shopping cart?"
   ]
  },
  {
   "cell_type": "markdown",
   "id": "2038d91d",
   "metadata": {},
   "source": [
    "float"
   ]
  },
  {
   "cell_type": "markdown",
   "id": "c115638e",
   "metadata": {},
   "source": [
    "Whether or not a coupon code is valid?"
   ]
  },
  {
   "cell_type": "markdown",
   "id": "b7b1bb48",
   "metadata": {},
   "source": [
    "bool"
   ]
  },
  {
   "cell_type": "markdown",
   "id": "ccb0657f",
   "metadata": {},
   "source": [
    "An email address typed into a registration form?"
   ]
  },
  {
   "cell_type": "markdown",
   "id": "a80fd5b5",
   "metadata": {},
   "source": [
    "string"
   ]
  },
  {
   "cell_type": "markdown",
   "id": "5d6c2e1a",
   "metadata": {},
   "source": [
    "The price of a product?"
   ]
  },
  {
   "cell_type": "markdown",
   "id": "3ff3f681",
   "metadata": {},
   "source": [
    "float"
   ]
  },
  {
   "cell_type": "markdown",
   "id": "df3f899e",
   "metadata": {},
   "source": [
    "A Matrix?"
   ]
  },
  {
   "cell_type": "markdown",
   "id": "3f75fe99",
   "metadata": {},
   "source": [
    "<!-- [[1,2,3], [4,5,6]]\n",
    "1 2 3\n",
    "4 5 6 -->\n",
    "\n",
    "list"
   ]
  },
  {
   "cell_type": "markdown",
   "id": "58577545",
   "metadata": {},
   "source": [
    "The email addresses collected from a registration form?"
   ]
  },
  {
   "cell_type": "markdown",
   "id": "c07426a4",
   "metadata": {},
   "source": [
    "string"
   ]
  },
  {
   "cell_type": "markdown",
   "id": "eab412f6",
   "metadata": {},
   "source": [
    "Information about applicants to Codeup's data science program?"
   ]
  },
  {
   "cell_type": "markdown",
   "id": "d78e4d5a",
   "metadata": {},
   "source": [
    "dictionary "
   ]
  },
  {
   "cell_type": "markdown",
   "id": "07358456",
   "metadata": {},
   "source": [
    "### For each of the following code blocks, read the expression and predict what the result of evaluating it would be, then execute the expression in your Python REPL."
   ]
  },
  {
   "cell_type": "code",
   "execution_count": 12,
   "id": "bc3e5a79",
   "metadata": {},
   "outputs": [
    {
     "ename": "TypeError",
     "evalue": "can only concatenate str (not \"int\") to str",
     "output_type": "error",
     "traceback": [
      "\u001b[0;31m---------------------------------------------------------------------------\u001b[0m",
      "\u001b[0;31mTypeError\u001b[0m                                 Traceback (most recent call last)",
      "\u001b[0;32m<ipython-input-12-20b2518fe802>\u001b[0m in \u001b[0;36m<module>\u001b[0;34m\u001b[0m\n\u001b[0;32m----> 1\u001b[0;31m \u001b[0;34m'1'\u001b[0m \u001b[0;34m+\u001b[0m \u001b[0;36m2\u001b[0m\u001b[0;34m\u001b[0m\u001b[0;34m\u001b[0m\u001b[0m\n\u001b[0m",
      "\u001b[0;31mTypeError\u001b[0m: can only concatenate str (not \"int\") to str"
     ]
    }
   ],
   "source": [
    "'1' + 2"
   ]
  },
  {
   "cell_type": "code",
   "execution_count": 13,
   "id": "75a0217c",
   "metadata": {},
   "outputs": [
    {
     "data": {
      "text/plain": [
       "2"
      ]
     },
     "execution_count": 13,
     "metadata": {},
     "output_type": "execute_result"
    }
   ],
   "source": [
    "6 % 4"
   ]
  },
  {
   "cell_type": "code",
   "execution_count": 14,
   "id": "04208d49",
   "metadata": {},
   "outputs": [
    {
     "data": {
      "text/plain": [
       "int"
      ]
     },
     "execution_count": 14,
     "metadata": {},
     "output_type": "execute_result"
    }
   ],
   "source": [
    "type(6 % 4)"
   ]
  },
  {
   "cell_type": "code",
   "execution_count": 15,
   "id": "41196921",
   "metadata": {},
   "outputs": [
    {
     "data": {
      "text/plain": [
       "type"
      ]
     },
     "execution_count": 15,
     "metadata": {},
     "output_type": "execute_result"
    }
   ],
   "source": [
    "type(type(6 % 4))"
   ]
  },
  {
   "cell_type": "code",
   "execution_count": 16,
   "id": "5b9c6cf4",
   "metadata": {},
   "outputs": [
    {
     "ename": "TypeError",
     "evalue": "can only concatenate str (not \"int\") to str",
     "output_type": "error",
     "traceback": [
      "\u001b[0;31m---------------------------------------------------------------------------\u001b[0m",
      "\u001b[0;31mTypeError\u001b[0m                                 Traceback (most recent call last)",
      "\u001b[0;32m<ipython-input-16-d779031f2239>\u001b[0m in \u001b[0;36m<module>\u001b[0;34m\u001b[0m\n\u001b[0;32m----> 1\u001b[0;31m \u001b[0;34m'3 + 4 is '\u001b[0m \u001b[0;34m+\u001b[0m \u001b[0;36m3\u001b[0m \u001b[0;34m+\u001b[0m \u001b[0;36m4\u001b[0m\u001b[0;34m\u001b[0m\u001b[0;34m\u001b[0m\u001b[0m\n\u001b[0m",
      "\u001b[0;31mTypeError\u001b[0m: can only concatenate str (not \"int\") to str"
     ]
    }
   ],
   "source": [
    "'3 + 4 is ' + 3 + 4"
   ]
  },
  {
   "cell_type": "code",
   "execution_count": 17,
   "id": "638563d3",
   "metadata": {},
   "outputs": [
    {
     "data": {
      "text/plain": [
       "False"
      ]
     },
     "execution_count": 17,
     "metadata": {},
     "output_type": "execute_result"
    }
   ],
   "source": [
    "0 < 0"
   ]
  },
  {
   "cell_type": "code",
   "execution_count": 18,
   "id": "778bb936",
   "metadata": {},
   "outputs": [
    {
     "data": {
      "text/plain": [
       "False"
      ]
     },
     "execution_count": 18,
     "metadata": {},
     "output_type": "execute_result"
    }
   ],
   "source": [
    "'False' == False"
   ]
  },
  {
   "cell_type": "code",
   "execution_count": 19,
   "id": "8597ba7a",
   "metadata": {},
   "outputs": [
    {
     "data": {
      "text/plain": [
       "False"
      ]
     },
     "execution_count": 19,
     "metadata": {},
     "output_type": "execute_result"
    }
   ],
   "source": [
    "True == 'True'"
   ]
  },
  {
   "cell_type": "code",
   "execution_count": 20,
   "id": "c6e69ab4",
   "metadata": {},
   "outputs": [
    {
     "data": {
      "text/plain": [
       "True"
      ]
     },
     "execution_count": 20,
     "metadata": {},
     "output_type": "execute_result"
    }
   ],
   "source": [
    "5 >= -5"
   ]
  },
  {
   "cell_type": "code",
   "execution_count": 25,
   "id": "d327a782",
   "metadata": {},
   "outputs": [
    {
     "data": {
      "text/plain": [
       "True"
      ]
     },
     "execution_count": 25,
     "metadata": {},
     "output_type": "execute_result"
    }
   ],
   "source": [
    "True or False"
   ]
  },
  {
   "cell_type": "code",
   "execution_count": 26,
   "id": "615f1dd8",
   "metadata": {},
   "outputs": [
    {
     "data": {
      "text/plain": [
       "1"
      ]
     },
     "execution_count": 26,
     "metadata": {},
     "output_type": "execute_result"
    }
   ],
   "source": [
    "6 % 5"
   ]
  },
  {
   "cell_type": "code",
   "execution_count": 27,
   "id": "091d97f9",
   "metadata": {},
   "outputs": [
    {
     "data": {
      "text/plain": [
       "False"
      ]
     },
     "execution_count": 27,
     "metadata": {},
     "output_type": "execute_result"
    }
   ],
   "source": [
    "5 < 4 and 1 == 1"
   ]
  },
  {
   "cell_type": "code",
   "execution_count": 28,
   "id": "caf4a10e",
   "metadata": {},
   "outputs": [
    {
     "data": {
      "text/plain": [
       "False"
      ]
     },
     "execution_count": 28,
     "metadata": {},
     "output_type": "execute_result"
    }
   ],
   "source": [
    "'codeup' == 'codeup' and 'codeup' == 'Codeup'"
   ]
  },
  {
   "cell_type": "code",
   "execution_count": 31,
   "id": "b22b7e99",
   "metadata": {},
   "outputs": [
    {
     "ename": "SyntaxError",
     "evalue": "invalid syntax (<ipython-input-31-28fe0c9082c3>, line 1)",
     "output_type": "error",
     "traceback": [
      "\u001b[0;36m  File \u001b[0;32m\"<ipython-input-31-28fe0c9082c3>\"\u001b[0;36m, line \u001b[0;32m1\u001b[0m\n\u001b[0;31m    4 >= 0 and 1 !== '1'\u001b[0m\n\u001b[0m                   ^\u001b[0m\n\u001b[0;31mSyntaxError\u001b[0m\u001b[0;31m:\u001b[0m invalid syntax\n"
     ]
    }
   ],
   "source": [
    "4 >= 0 and 1 !== '1'"
   ]
  },
  {
   "cell_type": "code",
   "execution_count": 32,
   "id": "786f6fc3",
   "metadata": {},
   "outputs": [
    {
     "data": {
      "text/plain": [
       "True"
      ]
     },
     "execution_count": 32,
     "metadata": {},
     "output_type": "execute_result"
    }
   ],
   "source": [
    "6 % 3 == 0"
   ]
  },
  {
   "cell_type": "code",
   "execution_count": 33,
   "id": "af6ff489",
   "metadata": {},
   "outputs": [
    {
     "data": {
      "text/plain": [
       "True"
      ]
     },
     "execution_count": 33,
     "metadata": {},
     "output_type": "execute_result"
    }
   ],
   "source": [
    "5 % 2 != 0"
   ]
  },
  {
   "cell_type": "code",
   "execution_count": 35,
   "id": "a0851a62",
   "metadata": {},
   "outputs": [
    {
     "data": {
      "text/plain": [
       "[1, 2]"
      ]
     },
     "execution_count": 35,
     "metadata": {},
     "output_type": "execute_result"
    }
   ],
   "source": [
    "[1] + [2]"
   ]
  },
  {
   "cell_type": "code",
   "execution_count": 36,
   "id": "4cd7aae3",
   "metadata": {},
   "outputs": [
    {
     "data": {
      "text/plain": [
       "[1, 2]"
      ]
     },
     "execution_count": 36,
     "metadata": {},
     "output_type": "execute_result"
    }
   ],
   "source": [
    "[1] + [2]"
   ]
  },
  {
   "cell_type": "code",
   "execution_count": 37,
   "id": "cc7fdb08",
   "metadata": {},
   "outputs": [
    {
     "data": {
      "text/plain": [
       "[1, 1]"
      ]
     },
     "execution_count": 37,
     "metadata": {},
     "output_type": "execute_result"
    }
   ],
   "source": [
    "[1] * 2"
   ]
  },
  {
   "cell_type": "code",
   "execution_count": 38,
   "id": "b9d1d336",
   "metadata": {},
   "outputs": [
    {
     "ename": "TypeError",
     "evalue": "can't multiply sequence by non-int of type 'list'",
     "output_type": "error",
     "traceback": [
      "\u001b[0;31m---------------------------------------------------------------------------\u001b[0m",
      "\u001b[0;31mTypeError\u001b[0m                                 Traceback (most recent call last)",
      "\u001b[0;32m<ipython-input-38-887f6473eaff>\u001b[0m in \u001b[0;36m<module>\u001b[0;34m\u001b[0m\n\u001b[0;32m----> 1\u001b[0;31m \u001b[0;34m[\u001b[0m\u001b[0;36m1\u001b[0m\u001b[0;34m]\u001b[0m \u001b[0;34m*\u001b[0m \u001b[0;34m[\u001b[0m\u001b[0;36m2\u001b[0m\u001b[0;34m]\u001b[0m\u001b[0;34m\u001b[0m\u001b[0;34m\u001b[0m\u001b[0m\n\u001b[0m",
      "\u001b[0;31mTypeError\u001b[0m: can't multiply sequence by non-int of type 'list'"
     ]
    }
   ],
   "source": [
    "[1] * [2]"
   ]
  },
  {
   "cell_type": "code",
   "execution_count": 40,
   "id": "affc9257",
   "metadata": {},
   "outputs": [
    {
     "data": {
      "text/plain": [
       "True"
      ]
     },
     "execution_count": 40,
     "metadata": {},
     "output_type": "execute_result"
    }
   ],
   "source": [
    "[] + [] == []"
   ]
  },
  {
   "cell_type": "code",
   "execution_count": 43,
   "id": "c0a7c01e",
   "metadata": {},
   "outputs": [
    {
     "data": {
      "text/plain": [
       "()"
      ]
     },
     "execution_count": 43,
     "metadata": {},
     "output_type": "execute_result"
    }
   ],
   "source": [
    "() + ()"
   ]
  },
  {
   "cell_type": "code",
   "execution_count": 44,
   "id": "93d1e6a9",
   "metadata": {},
   "outputs": [],
   "source": [
    "emptytup = ()"
   ]
  },
  {
   "cell_type": "code",
   "execution_count": 45,
   "id": "0ac46aca",
   "metadata": {},
   "outputs": [
    {
     "ename": "AttributeError",
     "evalue": "'tuple' object has no attribute 'append'",
     "output_type": "error",
     "traceback": [
      "\u001b[0;31m---------------------------------------------------------------------------\u001b[0m",
      "\u001b[0;31mAttributeError\u001b[0m                            Traceback (most recent call last)",
      "\u001b[0;32m<ipython-input-45-053607e200a8>\u001b[0m in \u001b[0;36m<module>\u001b[0;34m\u001b[0m\n\u001b[0;32m----> 1\u001b[0;31m \u001b[0memptytup\u001b[0m\u001b[0;34m.\u001b[0m\u001b[0mappend\u001b[0m\u001b[0;34m(\u001b[0m\u001b[0;36m4\u001b[0m\u001b[0;34m)\u001b[0m\u001b[0;34m\u001b[0m\u001b[0;34m\u001b[0m\u001b[0m\n\u001b[0m",
      "\u001b[0;31mAttributeError\u001b[0m: 'tuple' object has no attribute 'append'"
     ]
    }
   ],
   "source": [
    "emptytup.append(4)"
   ]
  },
  {
   "cell_type": "markdown",
   "id": "42117c73",
   "metadata": {},
   "source": [
    "#### data_types_and_variables.py:"
   ]
  },
  {
   "cell_type": "code",
   "execution_count": 46,
   "id": "2a779abf",
   "metadata": {},
   "outputs": [],
   "source": [
    "# Data Types, Variables, and Operators\n",
    "\n",
    "# You have rented some movies for your kids: \n",
    "# The little mermaid (for 3 days), \n",
    "# Brother Bear (for 5 days, they love it), and \n",
    "# Hercules (1 day, you don't know yet if they're going to like it). \n",
    "# If price for a movie per day is 3 dollars, how much will you have to pay?\n",
    "\n",
    "# When do you know you need a variable?\n",
    "# Variables are the nouns in our programs"
   ]
  },
  {
   "cell_type": "code",
   "execution_count": 47,
   "id": "cf4a227c",
   "metadata": {},
   "outputs": [],
   "source": [
    "price_per_day = 3.0\n",
    "mermaid_days = 3\n",
    "bear_days = 5\n",
    "herc_days = 1\n",
    "# total price paid = total days * rate\n",
    "total_days = mermaid_days + bear_days + herc_days"
   ]
  },
  {
   "cell_type": "code",
   "execution_count": 48,
   "id": "61ec1102",
   "metadata": {},
   "outputs": [
    {
     "data": {
      "text/plain": [
       "9"
      ]
     },
     "execution_count": 48,
     "metadata": {},
     "output_type": "execute_result"
    }
   ],
   "source": [
    "total_days"
   ]
  },
  {
   "cell_type": "code",
   "execution_count": 49,
   "id": "081eccf6",
   "metadata": {},
   "outputs": [],
   "source": [
    "amount_spent = total_days * price_per_day"
   ]
  },
  {
   "cell_type": "code",
   "execution_count": 53,
   "id": "990da880",
   "metadata": {},
   "outputs": [
    {
     "name": "stdout",
     "output_type": "stream",
     "text": [
      "27.0\n",
      "Amount spent on Disney products was $27.0\n"
     ]
    }
   ],
   "source": [
    "print(amount_spent)\n",
    "print(f'Amount spent on Disney products was ${amount_spent}')"
   ]
  },
  {
   "cell_type": "code",
   "execution_count": null,
   "id": "80ef0203",
   "metadata": {},
   "outputs": [],
   "source": [
    "# Google, Amazon and Facebook, they pay you a \n",
    "# different rate per hour. \n",
    "# Google pays 400 dollars per hour, \n",
    "# Amazon 380, \n",
    "# and Facebook 350. \n",
    "# How much will you receive in payment for this week? \n",
    "# You worked 10 hours for Facebook, \n",
    "# 6 hours for Google and 4 hours for Amazon."
   ]
  },
  {
   "cell_type": "code",
   "execution_count": 54,
   "id": "befd9930",
   "metadata": {},
   "outputs": [],
   "source": [
    "google_rate = 400\n",
    "amazon_rate = 380\n",
    "facebook_rate = 350\n",
    "\n",
    "google_hours = 6\n",
    "facebook_hours = 10\n",
    "amazon_hours = 4"
   ]
  },
  {
   "cell_type": "code",
   "execution_count": 55,
   "id": "c8fe8617",
   "metadata": {},
   "outputs": [],
   "source": [
    "total_comp = (google_rate * google_hours) + (facebook_rate * facebook_hours) + (amazon_rate * amazon_hours)"
   ]
  },
  {
   "cell_type": "code",
   "execution_count": 56,
   "id": "d826aa3a",
   "metadata": {},
   "outputs": [
    {
     "name": "stdout",
     "output_type": "stream",
     "text": [
      "Total pay for the week is 7420\n"
     ]
    }
   ],
   "source": [
    "print(f'Total pay for the week is {total_comp}')"
   ]
  },
  {
   "cell_type": "code",
   "execution_count": null,
   "id": "e0bd0b05",
   "metadata": {},
   "outputs": [],
   "source": [
    "# A student can be enrolled to a class \n",
    "# only if the class is not full \n",
    "# and the class schedule does not conflict with her current schedule.\n",
    "# What are our nouns/states of the world:\n",
    "# The class has room or not\n",
    "# Student schedule works or not\n",
    "# Student can enroll = class has room and student's schedule works"
   ]
  },
  {
   "cell_type": "code",
   "execution_count": 57,
   "id": "8f82cdd9",
   "metadata": {},
   "outputs": [],
   "source": [
    "class_has_room = True\n",
    "schedule_has_room = False\n",
    "student_can_enroll = class_has_room and schedule_has_room"
   ]
  },
  {
   "cell_type": "code",
   "execution_count": 58,
   "id": "8203d9ba",
   "metadata": {},
   "outputs": [
    {
     "name": "stdout",
     "output_type": "stream",
     "text": [
      "Can the student enroll? \n",
      " False\n"
     ]
    }
   ],
   "source": [
    "print(f'Can the student enroll? \\n {student_can_enroll}')"
   ]
  },
  {
   "cell_type": "code",
   "execution_count": null,
   "id": "9ef82741",
   "metadata": {},
   "outputs": [],
   "source": [
    "# A product offer can be applied only if people \n",
    "# buys more than 2 items, \n",
    "# and the offer has not expired. \n",
    "# Premium members do not need to buy a specific amount of products.\n",
    "# Let's think of our setup for the program:\n",
    "# (More than two items OR premium member) and offer is still good"
   ]
  },
  {
   "cell_type": "code",
   "execution_count": 59,
   "id": "a901c4b2",
   "metadata": {},
   "outputs": [
    {
     "name": "stdout",
     "output_type": "stream",
     "text": [
      "Is discount valid?\n",
      "True\n"
     ]
    }
   ],
   "source": [
    "is_premium_member = True\n",
    "more_than_two_items = False\n",
    "# (is_premium_member or more_than_two_items)\n",
    "offer_not_expired = True\n",
    "discount_valid = offer_not_expired and (is_premium_member or more_than_two_items)\n",
    "print('Is discount valid?')\n",
    "print(discount_valid)"
   ]
  },
  {
   "cell_type": "code",
   "execution_count": 60,
   "id": "0a36cbdc",
   "metadata": {},
   "outputs": [],
   "source": [
    "# Let's play password setups!\n",
    "# Create a variable that holds a boolean\n",
    "# value for each of the following conditions:\n",
    "# the password must be at least 5 characters\n",
    "# the username must be no more than 20 characters\n",
    "# the password must not be the same as the username\n",
    "# bonus neither the username or password can start or end with whitespace"
   ]
  },
  {
   "cell_type": "code",
   "execution_count": 95,
   "id": "1c5adff9",
   "metadata": {},
   "outputs": [],
   "source": [
    "username = 'codeup'\n",
    "password = 'notastrongpassword '"
   ]
  },
  {
   "cell_type": "code",
   "execution_count": 70,
   "id": "de23c044",
   "metadata": {},
   "outputs": [],
   "source": [
    "password_is_long_enough = len(password) >= 5\n",
    "username_is_short_enough = len(username) <= 20"
   ]
  },
  {
   "cell_type": "code",
   "execution_count": 97,
   "id": "5bca48b5",
   "metadata": {},
   "outputs": [],
   "source": [
    "username_and_password_are_different = username != password\n",
    "username_has_spaces = username != username.strip()\n",
    "password_has_spaces = password != password.strip()"
   ]
  },
  {
   "cell_type": "code",
   "execution_count": null,
   "id": "0bc90728",
   "metadata": {},
   "outputs": [],
   "source": [
    "# \n",
    "# Personal memory flub about the function of string method strip():\n",
    "# strip() will remove leading or ending whitespace, not whitespace in middle\n",
    "# "
   ]
  },
  {
   "cell_type": "code",
   "execution_count": 99,
   "id": "44fc8bdf",
   "metadata": {},
   "outputs": [
    {
     "data": {
      "text/plain": [
       "'notastrongpassword'"
      ]
     },
     "execution_count": 99,
     "metadata": {},
     "output_type": "execute_result"
    }
   ],
   "source": [
    "password.strip()"
   ]
  },
  {
   "cell_type": "code",
   "execution_count": 100,
   "id": "c29afb48",
   "metadata": {},
   "outputs": [
    {
     "data": {
      "text/plain": [
       "True"
      ]
     },
     "execution_count": 100,
     "metadata": {},
     "output_type": "execute_result"
    }
   ],
   "source": [
    "password_has_spaces"
   ]
  },
  {
   "cell_type": "code",
   "execution_count": 101,
   "id": "f9eeffa6",
   "metadata": {},
   "outputs": [
    {
     "data": {
      "text/plain": [
       "'notastrong password'"
      ]
     },
     "execution_count": 101,
     "metadata": {},
     "output_type": "execute_result"
    }
   ],
   "source": [
    "'notastrong password'.strip()"
   ]
  },
  {
   "cell_type": "code",
   "execution_count": 72,
   "id": "cb6c0feb",
   "metadata": {},
   "outputs": [],
   "source": [
    "username_good = username_is_short_enough and username_and_password_are_different and not username_has_spaces"
   ]
  },
  {
   "cell_type": "code",
   "execution_count": 102,
   "id": "88ba6f21",
   "metadata": {},
   "outputs": [],
   "source": [
    "password_good = (password_is_long_enough) and (username_and_password_are_different) and not (password_has_spaces)"
   ]
  },
  {
   "cell_type": "code",
   "execution_count": 103,
   "id": "82fa7cad",
   "metadata": {},
   "outputs": [
    {
     "data": {
      "text/plain": [
       "False"
      ]
     },
     "execution_count": 103,
     "metadata": {},
     "output_type": "execute_result"
    }
   ],
   "source": [
    "password_good"
   ]
  },
  {
   "cell_type": "code",
   "execution_count": 104,
   "id": "1cb8cb60",
   "metadata": {},
   "outputs": [],
   "source": [
    "valid_credentials = username_good and password_good"
   ]
  },
  {
   "cell_type": "code",
   "execution_count": 105,
   "id": "6a87b103",
   "metadata": {},
   "outputs": [
    {
     "name": "stdout",
     "output_type": "stream",
     "text": [
      "Username good?\n",
      "True\n",
      "password good?\n",
      "False\n",
      "credentials valid?\n",
      "False\n"
     ]
    }
   ],
   "source": [
    "print('Username good?')\n",
    "print(username_good)\n",
    "print('password good?')\n",
    "print(password_good)\n",
    "print('credentials valid?')\n",
    "print(valid_credentials)"
   ]
  },
  {
   "cell_type": "code",
   "execution_count": null,
   "id": "38bbe512",
   "metadata": {},
   "outputs": [],
   "source": []
  }
 ],
 "metadata": {
  "kernelspec": {
   "display_name": "Python 3",
   "language": "python",
   "name": "python3"
  },
  "language_info": {
   "codemirror_mode": {
    "name": "ipython",
    "version": 3
   },
   "file_extension": ".py",
   "mimetype": "text/x-python",
   "name": "python",
   "nbconvert_exporter": "python",
   "pygments_lexer": "ipython3",
   "version": "3.9.4"
  }
 },
 "nbformat": 4,
 "nbformat_minor": 5
}
