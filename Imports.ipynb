{
 "cells": [
  {
   "cell_type": "markdown",
   "id": "17ceac0c",
   "metadata": {},
   "source": [
    "## Module:\n",
    "A module is any python script (.py) : It is used to be a part of another workflow and is utilized by what we call importing\n",
    "\n",
    "## Package:\n",
    "A package is one or more modules that live in a directory, a plurality of modules generally\n",
    "\n",
    "## Library:\n",
    "A library is any or all the above, but generally the detail that defines a library is the fact that it contains the proper documentation and specificity in task plus ideally a community behind it"
   ]
  },
  {
   "cell_type": "code",
   "execution_count": 1,
   "id": "44970b6b",
   "metadata": {},
   "outputs": [],
   "source": [
    "# how to use any or all of the above:\n",
    "\n",
    "# Step one: install the thing\n",
    "\n",
    "# We can install two different ways:\n",
    "# (this is in command line not your script!)\n",
    "# conda install _______\n",
    "# pip install _______\n",
    "\n",
    "\n",
    "# Step 2:\n",
    "# use the thing\n",
    "# this part is in your script\n",
    "# import ______"
   ]
  },
  {
   "cell_type": "code",
   "execution_count": 2,
   "id": "cf1b4347",
   "metadata": {},
   "outputs": [],
   "source": [
    "# standard python library importing (its already there, dont need to check for install)"
   ]
  },
  {
   "cell_type": "code",
   "execution_count": 3,
   "id": "0bf967a1",
   "metadata": {},
   "outputs": [],
   "source": [
    "# let's get math\n",
    "import math"
   ]
  },
  {
   "cell_type": "code",
   "execution_count": 4,
   "id": "e5afab9a",
   "metadata": {},
   "outputs": [
    {
     "data": {
      "text/plain": [
       "3.0"
      ]
     },
     "execution_count": 4,
     "metadata": {},
     "output_type": "execute_result"
    }
   ],
   "source": [
    "math.sqrt(9)"
   ]
  },
  {
   "cell_type": "code",
   "execution_count": 6,
   "id": "536814ea",
   "metadata": {},
   "outputs": [
    {
     "data": {
      "text/plain": [
       "4.0"
      ]
     },
     "execution_count": 6,
     "metadata": {},
     "output_type": "execute_result"
    }
   ],
   "source": [
    "math.pow(2,2)"
   ]
  },
  {
   "cell_type": "code",
   "execution_count": 7,
   "id": "b70c3804",
   "metadata": {},
   "outputs": [
    {
     "ename": "NameError",
     "evalue": "name 'capitalize_string' is not defined",
     "output_type": "error",
     "traceback": [
      "\u001b[0;31m---------------------------------------------------------------------------\u001b[0m",
      "\u001b[0;31mNameError\u001b[0m                                 Traceback (most recent call last)",
      "\u001b[0;32m<ipython-input-7-34510eb32ab5>\u001b[0m in \u001b[0;36m<module>\u001b[0;34m\u001b[0m\n\u001b[0;32m----> 1\u001b[0;31m \u001b[0mcapitalize_string\u001b[0m\u001b[0;34m(\u001b[0m\u001b[0;34m'this string'\u001b[0m\u001b[0;34m)\u001b[0m\u001b[0;34m\u001b[0m\u001b[0;34m\u001b[0m\u001b[0m\n\u001b[0m",
      "\u001b[0;31mNameError\u001b[0m: name 'capitalize_string' is not defined"
     ]
    }
   ],
   "source": [
    "capitalize_string('this string')"
   ]
  },
  {
   "cell_type": "code",
   "execution_count": 8,
   "id": "d583a315",
   "metadata": {},
   "outputs": [],
   "source": [
    "# aliasing:"
   ]
  },
  {
   "cell_type": "code",
   "execution_count": 9,
   "id": "c3ecea38",
   "metadata": {},
   "outputs": [],
   "source": [
    "import sklearn as skl"
   ]
  },
  {
   "cell_type": "code",
   "execution_count": null,
   "id": "feff11e5",
   "metadata": {},
   "outputs": [],
   "source": [
    "skl.whatever()"
   ]
  },
  {
   "cell_type": "code",
   "execution_count": 10,
   "id": "7455984b",
   "metadata": {},
   "outputs": [],
   "source": [
    "import matplotlib.pyplot as plt"
   ]
  },
  {
   "cell_type": "code",
   "execution_count": 11,
   "id": "c2efff69",
   "metadata": {},
   "outputs": [],
   "source": [
    "# another acceptable format: import a single function\n",
    "\n",
    "from math import sqrt\n",
    "\n",
    "# if we do this, we can call sqrt() instead of math.sqrt, \n",
    "# but not anything else in math"
   ]
  },
  {
   "cell_type": "code",
   "execution_count": 12,
   "id": "2a85dfca",
   "metadata": {},
   "outputs": [],
   "source": [
    "# from wherever import thing1 as alias1, thing2"
   ]
  },
  {
   "cell_type": "markdown",
   "id": "42697543",
   "metadata": {},
   "source": [
    "### Custom Modules"
   ]
  },
  {
   "cell_type": "code",
   "execution_count": 13,
   "id": "32f3de9f",
   "metadata": {},
   "outputs": [],
   "source": [
    "# make sure you are living in the same directory as your module!"
   ]
  },
  {
   "cell_type": "code",
   "execution_count": 14,
   "id": "7eb8663b",
   "metadata": {},
   "outputs": [],
   "source": [
    "import testimportfile"
   ]
  },
  {
   "cell_type": "code",
   "execution_count": 1,
   "id": "ea4f7404",
   "metadata": {},
   "outputs": [],
   "source": [
    "import someotherfile"
   ]
  },
  {
   "cell_type": "code",
   "execution_count": 16,
   "id": "82d39696",
   "metadata": {},
   "outputs": [
    {
     "name": "stdout",
     "output_type": "stream",
     "text": [
      "hey world\n"
     ]
    }
   ],
   "source": [
    "testimportfile.helloworld()"
   ]
  },
  {
   "cell_type": "code",
   "execution_count": 3,
   "id": "e66316d1",
   "metadata": {},
   "outputs": [],
   "source": [
    "# NOTE: if you modify a module .py that you are referencing,\n",
    "# you must restart your notebook kernel in order to see the changes\n",
    "# reflected"
   ]
  },
  {
   "cell_type": "code",
   "execution_count": 6,
   "id": "b1c4e88f",
   "metadata": {},
   "outputs": [],
   "source": [
    "# NOTE: AVOID USING NAMES OF THINGS THAT ALREADY EXIST!\n",
    "# if you define a custom function called type()\n",
    "# and then\n",
    "# from myfile import type\n",
    "# you're going to break functionality of the fundamental type function!"
   ]
  },
  {
   "cell_type": "code",
   "execution_count": 2,
   "id": "8badb154",
   "metadata": {},
   "outputs": [],
   "source": [
    "# not running everything:\n",
    "# if __name__ == '__main__':\n",
    "#      code you want to run in console but not when imported\n",
    "# in your .py module"
   ]
  },
  {
   "cell_type": "code",
   "execution_count": null,
   "id": "35a682b6",
   "metadata": {},
   "outputs": [],
   "source": []
  }
 ],
 "metadata": {
  "kernelspec": {
   "display_name": "Python 3",
   "language": "python",
   "name": "python3"
  },
  "language_info": {
   "codemirror_mode": {
    "name": "ipython",
    "version": 3
   },
   "file_extension": ".py",
   "mimetype": "text/x-python",
   "name": "python",
   "nbconvert_exporter": "python",
   "pygments_lexer": "ipython3",
   "version": "3.9.4"
  }
 },
 "nbformat": 4,
 "nbformat_minor": 5
}
