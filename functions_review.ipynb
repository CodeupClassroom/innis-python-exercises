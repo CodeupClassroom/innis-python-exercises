{
 "cells": [
  {
   "cell_type": "markdown",
   "id": "fitting-reunion",
   "metadata": {},
   "source": [
    "# Functions Exercises"
   ]
  },
  {
   "cell_type": "code",
   "execution_count": 5,
   "id": "wound-clarity",
   "metadata": {},
   "outputs": [],
   "source": [
    "# Exercise 1\n",
    "# Define a function named is_two. \n",
    "# It should accept one input and return True if \n",
    "# the passed input is either the number or the string 2, \n",
    "# False otherwise.\n",
    "def is_two(n):\n",
    "    return n == 2 or n == '2'\n",
    "\n",
    "# assert actual value == expected value\n",
    "assert is_two(2) == True\n",
    "assert is_two(2.0) == True\n",
    "assert is_two(\"2\") == True\n",
    "assert is_two(5) == False\n",
    "assert is_two(10) == False\n",
    "assert is_two(\"coffee\") == False"
   ]
  },
  {
   "cell_type": "code",
   "execution_count": 8,
   "id": "fitting-hotel",
   "metadata": {},
   "outputs": [],
   "source": [
    "# Exercise 2\n",
    "# Define a function named is_vowel. \n",
    "# It should return True if the passed string is a vowel, \n",
    "# False otherwise.\n",
    "def is_vowel(somestring):\n",
    "    if type(somestring) == str:\n",
    "        result = somestring.lower() in ['a','e','i','o','u']\n",
    "        return result\n",
    "    else:\n",
    "        return False\n",
    "\n",
    "# if type(somestring) == str:    \n",
    "#    if len(somestring.lower()) == 1 and somestring.lower() in 'aeiou'\n",
    "    \n",
    "assert is_vowel(\"A\") == True\n",
    "assert is_vowel(\"E\") == True\n",
    "assert is_vowel(\"I\") == True\n",
    "assert is_vowel(\"O\") == True\n",
    "assert is_vowel(\"y\") == False\n",
    "assert is_vowel(\"aeiou\") == False # since the entire string aint a vowel\n",
    "assert is_vowel(\"p\") == False\n",
    "assert is_vowel([1, 2, 3]) == False\n",
    "assert is_vowel(2) == False"
   ]
  },
  {
   "cell_type": "code",
   "execution_count": 9,
   "id": "affecting-repair",
   "metadata": {},
   "outputs": [],
   "source": [
    "# Exercise 3\n",
    "# Define a function named is_consonant.\n",
    "# It should return True if the passed string is a consonant, \n",
    "# False otherwise. Use your is_vowel function to accomplish this.\n",
    "\n",
    "\n",
    "# seen previously: isdigit()\n",
    "\n",
    "def is_consonant(somestring):\n",
    "    if type(somestring) == str:\n",
    "        only_letters = somestring.isalpha()\n",
    "        return only_letters and not is_vowel(somestring)\n",
    "    return False\n",
    "\n",
    "\n",
    "assert is_consonant(\"B\") == True\n",
    "assert is_consonant(\"y\") == True\n",
    "assert is_consonant(\"A\") == False\n",
    "assert is_consonant(\"E\") == False\n",
    "assert is_consonant(\"I\") == False\n",
    "assert is_consonant(\"O\") == False\n",
    "assert is_consonant(\"1\") == False\n",
    "assert is_consonant(\"2\") == False\n",
    "assert is_consonant(\"*\") == False\n",
    "assert is_consonant(\"+\") == False\n",
    "assert is_consonant([3, 4]) == False"
   ]
  },
  {
   "cell_type": "code",
   "execution_count": 13,
   "id": "martial-illustration",
   "metadata": {},
   "outputs": [],
   "source": [
    "# Exercise 4\n",
    "# Define a function that accepts a string that is a word. \n",
    "# The function should capitalize the f\n",
    "# irst letter of the word if the word starts with a consonant.\n",
    "def capitalize_starting_consonant(string):\n",
    "    if type(string) != str:\n",
    "        return False\n",
    "    first_letter = string[0]\n",
    "    if is_consonant(first_letter):\n",
    "        string = string.capitalize()\n",
    "    return string\n",
    "    \n",
    "    \n",
    "assert capitalize_starting_consonant(\"coffee\") == \"Coffee\"\n",
    "assert capitalize_starting_consonant(\"another string\") == \"another string\""
   ]
  },
  {
   "cell_type": "code",
   "execution_count": 14,
   "id": "8a38af16",
   "metadata": {},
   "outputs": [
    {
     "data": {
      "text/plain": [
       "False"
      ]
     },
     "execution_count": 14,
     "metadata": {},
     "output_type": "execute_result"
    }
   ],
   "source": [
    "capitalize_starting_consonant(12345)"
   ]
  },
  {
   "cell_type": "code",
   "execution_count": 25,
   "id": "whole-forum",
   "metadata": {},
   "outputs": [],
   "source": [
    "# Exercise 5\n",
    "# Define a function named calculate_tip. \n",
    "# It should accept a tip percentage \n",
    "# (a number between 0 and 1) and the bill total, \n",
    "# and return the amount to tip.\n",
    "def calculate_tip(bill, tip_percentage=0.2):\n",
    "    if type(bill) != float:\n",
    "        return False\n",
    "    if tip_percentage < 0 or tip_percentage > 1:\n",
    "        return 'the tip percentage must be between 0 and 1'\n",
    "    return tip_percentage * bill\n",
    "\n",
    "assert calculate_tip(100.00) == 20\n",
    "assert calculate_tip(100.00, .3) == 30"
   ]
  },
  {
   "cell_type": "code",
   "execution_count": 26,
   "id": "expected-conspiracy",
   "metadata": {},
   "outputs": [],
   "source": [
    "# Exercise 6\n",
    "# Define a function named apply_discount. \n",
    "# It should accept a original price, and a discount percentage, \n",
    "# and return the price after the discount is applied.\n",
    "def apply_discount(price, discount_percentage):\n",
    "    discount = price * discount_percentage\n",
    "    return price - discount\n",
    "\n",
    "assert apply_discount(20, .5) == 10"
   ]
  },
  {
   "cell_type": "code",
   "execution_count": null,
   "id": "b51447ad",
   "metadata": {},
   "outputs": [],
   "source": [
    "# apply_discount = lambda price: price - (price * .10)"
   ]
  },
  {
   "cell_type": "code",
   "execution_count": 30,
   "id": "comparative-bridge",
   "metadata": {},
   "outputs": [],
   "source": [
    "# Exercise 7\n",
    "# Define a function named handle_commas. \n",
    "# It should accept a string that is a number that contains \n",
    "# commas in it as input, \n",
    "# and return a number as output.\n",
    "def handle_commas(somestring):\n",
    "    if type(somestring) != str:\n",
    "        return 'input must be a string'\n",
    "    somestring = somestring.replace(',', '')\n",
    "    if somestring.isdigit():\n",
    "        return float(somestring)\n",
    "    else:\n",
    "        return 'input must be a string that is a number'\n",
    "\n",
    "#     look into try: (try: except: )\n",
    "\n",
    "assert handle_commas(\"1,234\") == 1234\n",
    "assert handle_commas(\"1,234,456\") == 1234456\n",
    "assert handle_commas(\"1,234,456\") == 1234456"
   ]
  },
  {
   "cell_type": "code",
   "execution_count": 31,
   "id": "finished-perfume",
   "metadata": {},
   "outputs": [],
   "source": [
    "# Exercise 8\n",
    "# Define a function named get_letter_grade. \n",
    "# It should accept a number and return the letter grade \n",
    "# associated with that number (A-F).\n",
    "def get_letter_grade(grade):\n",
    "    if type(grade) == int or type(grade) == float:\n",
    "        if grade >= 90:\n",
    "            return \"A\"\n",
    "        elif grade >= 80:\n",
    "            return \"B\"\n",
    "        elif grade >= 70:\n",
    "            return \"C\"\n",
    "        elif grade >= 60:\n",
    "            return \"D\"\n",
    "        else:\n",
    "            return \"F\"\n",
    "    else:\n",
    "        return \"Input must be a number\"\n",
    "\n",
    "assert get_letter_grade(100) == \"A\"\n",
    "assert get_letter_grade(75) == \"C\""
   ]
  },
  {
   "cell_type": "code",
   "execution_count": null,
   "id": "e7bfcca6",
   "metadata": {},
   "outputs": [],
   "source": []
  },
  {
   "cell_type": "code",
   "execution_count": 37,
   "id": "primary-plant",
   "metadata": {},
   "outputs": [
    {
     "name": "stdout",
     "output_type": "stream",
     "text": [
      "B\n"
     ]
    },
    {
     "ename": "TypeError",
     "evalue": "'>=' not supported between instances of 'str' and 'int'",
     "output_type": "error",
     "traceback": [
      "\u001b[0;31m---------------------------------------------------------------------------\u001b[0m",
      "\u001b[0;31mTypeError\u001b[0m                                 Traceback (most recent call last)",
      "\u001b[0;32m<ipython-input-37-2bdf61382c59>\u001b[0m in \u001b[0;36m<module>\u001b[0;34m\u001b[0m\n\u001b[1;32m      5\u001b[0m     \u001b[0mgrade\u001b[0m \u001b[0;34m=\u001b[0m \u001b[0;34m\"B\"\u001b[0m\u001b[0;34m\u001b[0m\u001b[0;34m\u001b[0m\u001b[0m\n\u001b[1;32m      6\u001b[0m     \u001b[0mprint\u001b[0m\u001b[0;34m(\u001b[0m\u001b[0mgrade\u001b[0m\u001b[0;34m)\u001b[0m\u001b[0;34m\u001b[0m\u001b[0;34m\u001b[0m\u001b[0m\n\u001b[0;32m----> 7\u001b[0;31m \u001b[0;32mif\u001b[0m \u001b[0mgrade\u001b[0m \u001b[0;34m>=\u001b[0m \u001b[0;36m70\u001b[0m\u001b[0;34m:\u001b[0m\u001b[0;34m\u001b[0m\u001b[0;34m\u001b[0m\u001b[0m\n\u001b[0m\u001b[1;32m      8\u001b[0m     \u001b[0mgrade\u001b[0m \u001b[0;34m=\u001b[0m \u001b[0;34m\"C\"\u001b[0m\u001b[0;34m\u001b[0m\u001b[0;34m\u001b[0m\u001b[0m\n\u001b[1;32m      9\u001b[0m \u001b[0;32mif\u001b[0m \u001b[0mgrade\u001b[0m \u001b[0;34m>=\u001b[0m \u001b[0;36m60\u001b[0m\u001b[0;34m:\u001b[0m\u001b[0;34m\u001b[0m\u001b[0;34m\u001b[0m\u001b[0m\n",
      "\u001b[0;31mTypeError\u001b[0m: '>=' not supported between instances of 'str' and 'int'"
     ]
    }
   ],
   "source": [
    "grade = 85\n",
    "if grade >= 90:\n",
    "    grade = \"A\"\n",
    "if grade >= 80:\n",
    "    grade = \"B\"\n",
    "    print(grade)\n",
    "if grade >= 70:\n",
    "    grade = \"C\"\n",
    "if grade >= 60:\n",
    "    grade = \"D\"\n",
    "else:\n",
    "    grade = \"F\""
   ]
  },
  {
   "cell_type": "code",
   "execution_count": 35,
   "id": "wicked-cleveland",
   "metadata": {},
   "outputs": [
    {
     "data": {
      "text/plain": [
       "'B'"
      ]
     },
     "execution_count": 35,
     "metadata": {},
     "output_type": "execute_result"
    }
   ],
   "source": [
    "# if some condition:\n",
    "# else:\n",
    "#     if some_second_condition\n",
    "\n",
    "#     ==\n",
    "    \n",
    "# if some condition\n",
    "# elif some_second_condition"
   ]
  },
  {
   "cell_type": "code",
   "execution_count": 38,
   "id": "quiet-package",
   "metadata": {},
   "outputs": [],
   "source": [
    "# Exercise 9\n",
    "# Define a function named remove_vowels that accepts a \n",
    "# string and returns a string with all the vowels removed.\n",
    "def remove_vowels(somestring):\n",
    "    if type(somestring) != str:\n",
    "        return False\n",
    "    output = ''\n",
    "    for letter in somestring:\n",
    "        if is_consonant(letter):\n",
    "            output += letter\n",
    "    return output\n",
    "\n",
    "assert remove_vowels(\"banana\") == \"bnn\"\n",
    "assert remove_vowels(\"coffee\") == \"cff\""
   ]
  },
  {
   "cell_type": "code",
   "execution_count": 40,
   "id": "seasonal-builder",
   "metadata": {},
   "outputs": [],
   "source": [
    "# Exercise 10\n",
    "# Define a function named normalize_name. \n",
    "# It should accept a string and return a valid python identifier\n",
    "# steps I want to take\n",
    "# make lowercase, remove whitespace, establish valid identifier\n",
    "\n",
    "def normalize_name(string):\n",
    "    output = ''\n",
    "    string = string.lower()\n",
    "    for character in string:\n",
    "        if character.isidentifier() or character == ' ':\n",
    "            output += character\n",
    "    output = output.strip()\n",
    "    output = output.replace(' ', '_')\n",
    "    return output\n",
    "    \n",
    "assert normalize_name(\"First Name\") == \"first_name\"\n",
    "assert normalize_name(\"% Completed\") == \"completed\"\n",
    "assert normalize_name(\" sum of squares \") == \"sum_of_squares\""
   ]
  },
  {
   "cell_type": "code",
   "execution_count": 46,
   "id": "02951374",
   "metadata": {},
   "outputs": [
    {
     "name": "stdout",
     "output_type": "stream",
     "text": [
      "index:  0\n",
      "1\n",
      "index:  1\n",
      "2\n",
      "index:  2\n",
      "3\n",
      "index:  3\n",
      "4\n",
      "index:  4\n",
      "5\n"
     ]
    }
   ],
   "source": [
    "somenums = [1,2,3,4,5]\n",
    "for i, num in enumerate(somenums):\n",
    "    print('index: ', i)\n",
    "    print(num)"
   ]
  },
  {
   "cell_type": "code",
   "execution_count": 54,
   "id": "9ce903b0",
   "metadata": {},
   "outputs": [
    {
     "data": {
      "text/plain": [
       "3"
      ]
     },
     "execution_count": 54,
     "metadata": {},
     "output_type": "execute_result"
    }
   ],
   "source": [
    "sum(somenums[:1 + 1])"
   ]
  },
  {
   "cell_type": "code",
   "execution_count": 55,
   "id": "solar-wayne",
   "metadata": {},
   "outputs": [],
   "source": [
    "# Exercise 11\n",
    "# Write a function named cumulative_sum that accepts a list of numbers and returns a list that is the cumulative sum of the numbers in the list.\n",
    "# cumulative_sum([1, 1, 1]) returns [1, 2, 3]\n",
    "# cumulative_sum([1, 2, 3, 4]) returns [1, 3, 6, 10]\n",
    "\n",
    "def cumulative_sum(somenums):\n",
    "    output = []\n",
    "    for i, num in enumerate(somenums):\n",
    "        sum_so_far = sum(somenums[:i + 1])\n",
    "        output.append(sum_so_far)\n",
    "    return output\n",
    "\n",
    "    \n",
    "assert cumulative_sum([1, 2, 3, 4]) == [1, 3, 6, 10]\n",
    "assert cumulative_sum([1, 1, 1, 1]) == [1, 2, 3, 4]"
   ]
  },
  {
   "cell_type": "code",
   "execution_count": 56,
   "id": "durable-blend",
   "metadata": {},
   "outputs": [
    {
     "data": {
      "text/plain": [
       "[1, 3, 6, 10]"
      ]
     },
     "execution_count": 56,
     "metadata": {},
     "output_type": "execute_result"
    }
   ],
   "source": [
    "cumulative_sum([1, 2, 3, 4])"
   ]
  },
  {
   "cell_type": "code",
   "execution_count": null,
   "id": "71e41e6b",
   "metadata": {},
   "outputs": [],
   "source": []
  }
 ],
 "metadata": {
  "kernelspec": {
   "display_name": "Python 3",
   "language": "python",
   "name": "python3"
  },
  "language_info": {
   "codemirror_mode": {
    "name": "ipython",
    "version": 3
   },
   "file_extension": ".py",
   "mimetype": "text/x-python",
   "name": "python",
   "nbconvert_exporter": "python",
   "pygments_lexer": "ipython3",
   "version": "3.9.4"
  }
 },
 "nbformat": 4,
 "nbformat_minor": 5
}
